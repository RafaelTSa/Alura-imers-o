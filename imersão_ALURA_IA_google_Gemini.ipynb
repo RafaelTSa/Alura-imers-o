{
  "nbformat": 4,
  "nbformat_minor": 0,
  "metadata": {
    "colab": {
      "provenance": [],
      "authorship_tag": "ABX9TyNVrsnbyNkyD/qKOn9TfSrp",
      "include_colab_link": true
    },
    "kernelspec": {
      "name": "python3",
      "display_name": "Python 3"
    },
    "language_info": {
      "name": "python"
    }
  },
  "cells": [
    {
      "cell_type": "markdown",
      "metadata": {
        "id": "view-in-github",
        "colab_type": "text"
      },
      "source": [
        "<a href=\"https://colab.research.google.com/github/RafaelTSa/Alura-imers-o-python/blob/main/imers%C3%A3o_ALURA_IA_google_Gemini.ipynb\" target=\"_parent\"><img src=\"https://colab.research.google.com/assets/colab-badge.svg\" alt=\"Open In Colab\"/></a>"
      ]
    },
    {
      "cell_type": "code",
      "execution_count": null,
      "metadata": {
        "id": "_Zwn0FIgVTQT"
      },
      "outputs": [],
      "source": [
        "# Trazendo a biblioteca capaz de realizar requisições\n",
        "import requests\n",
        "\n",
        "# uma variável chamada url que armazena o endereço com as info  que desejo buscar\n",
        "url = 'https://raw.githubusercontent.com/guilhermeonrails/api-imersao-ia/main/words.json'\n",
        "# faço a requisição e armazeno em uma variável chamada resposta\n",
        "resposta = requests.get(url)\n",
        "# transforma a resposta em um JSON\n",
        "data = resposta.json()\n",
        "# exibindo as informações com o comando print(lembrem-se do hello world)\n",
        "print (data)\n",
        "len(data)\n"
      ]
    },
    {
      "cell_type": "code",
      "source": [
        "# vendo como podemos acessar cada uma das informações\n",
        "# toda lista em python começa com o índice em 0...\n",
        "# -1, -2\n",
        "data[0]"
      ],
      "metadata": {
        "id": "ZQ4SDwozYyYZ"
      },
      "execution_count": null,
      "outputs": []
    },
    {
      "cell_type": "code",
      "source": [
        "\n",
        "import random\n",
        "# variável chamada valor secreto que armazena uma tecnologia aleatória da lista\n",
        "valor_secreto = random.choice(data)\n",
        "# variável para armazenar apenas a palavra\n",
        "palavra_secreta = valor_secreto['palavra']\n",
        "# variável para armazenar apenas a dica\n",
        "dica = valor_secreto['dica']\n",
        "dica\n",
        "#mostrou na tela quantas letras a palavra secreta possui e a dica\n",
        "# o f é capaz de juntar/combinar palavras e variáveis\n",
        "#print(f'A palavra secreta tem {len(palavra_secreta)} letras -> {dica}')\n",
        "# receber o chute ou palpite da tecnologia\n",
        "print(f'A palavra secreta tem {len(palavra_secreta)} letras')\n",
        "print (f'A dica é -> {dica}')\n",
        "chute = input('O que você acha que é: ')\n",
        "if chute == palavra_secreta:\n",
        "    print ('acertou')\n",
        "else:\n",
        "  print(f'Errou.. a palavra secreta era {palavra_secreta}')\n"
      ],
      "metadata": {
        "colab": {
          "base_uri": "https://localhost:8080/"
        },
        "id": "02SUGKY3clXf",
        "outputId": "b6fa2968-f55a-4a18-da81-414d24418687"
      },
      "execution_count": 47,
      "outputs": [
        {
          "output_type": "stream",
          "name": "stdout",
          "text": [
            "A palavra secreta tem 10 letras\n",
            "A dica é -> orquestrar e gerenciar contêineres em ambientes de produção.\n",
            "O que você acha que é: git\n",
            "Errou.. a palavra secreta era kubernetes\n"
          ]
        }
      ]
    },
    {
      "cell_type": "code",
      "source": [],
      "metadata": {
        "id": "sa11r-CyOMLC"
      },
      "execution_count": null,
      "outputs": []
    }
  ]
}